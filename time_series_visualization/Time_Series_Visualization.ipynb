{
  "nbformat": 4,
  "nbformat_minor": 0,
  "metadata": {
    "colab": {
      "provenance": []
    },
    "kernelspec": {
      "name": "python3",
      "display_name": "Python 3"
    },
    "language_info": {
      "name": "python"
    }
  },
  "cells": [
    {
      "cell_type": "markdown",
      "source": [
        "Installation of Required Libraries\n"
      ],
      "metadata": {
        "id": "uAfbWmwYiLbY"
      }
    },
    {
      "cell_type": "code",
      "source": [
        "!pip install fpdf seaborn statsmodels"
      ],
      "metadata": {
        "colab": {
          "base_uri": "https://localhost:8080/"
        },
        "id": "uXl45MrriOeW",
        "outputId": "fe1a20c7-8323-4e22-bc7e-ec46d716a69b"
      },
      "execution_count": 1,
      "outputs": [
        {
          "output_type": "stream",
          "name": "stdout",
          "text": [
            "Collecting fpdf\n",
            "  Downloading fpdf-1.7.2.tar.gz (39 kB)\n",
            "  Preparing metadata (setup.py) ... \u001b[?25l\u001b[?25hdone\n",
            "Requirement already satisfied: seaborn in /usr/local/lib/python3.10/dist-packages (0.13.1)\n",
            "Requirement already satisfied: statsmodels in /usr/local/lib/python3.10/dist-packages (0.14.3)\n",
            "Requirement already satisfied: numpy!=1.24.0,>=1.20 in /usr/local/lib/python3.10/dist-packages (from seaborn) (1.26.4)\n",
            "Requirement already satisfied: pandas>=1.2 in /usr/local/lib/python3.10/dist-packages (from seaborn) (2.2.2)\n",
            "Requirement already satisfied: matplotlib!=3.6.1,>=3.4 in /usr/local/lib/python3.10/dist-packages (from seaborn) (3.7.1)\n",
            "Requirement already satisfied: scipy!=1.9.2,>=1.8 in /usr/local/lib/python3.10/dist-packages (from statsmodels) (1.13.1)\n",
            "Requirement already satisfied: patsy>=0.5.6 in /usr/local/lib/python3.10/dist-packages (from statsmodels) (0.5.6)\n",
            "Requirement already satisfied: packaging>=21.3 in /usr/local/lib/python3.10/dist-packages (from statsmodels) (24.1)\n",
            "Requirement already satisfied: contourpy>=1.0.1 in /usr/local/lib/python3.10/dist-packages (from matplotlib!=3.6.1,>=3.4->seaborn) (1.3.0)\n",
            "Requirement already satisfied: cycler>=0.10 in /usr/local/lib/python3.10/dist-packages (from matplotlib!=3.6.1,>=3.4->seaborn) (0.12.1)\n",
            "Requirement already satisfied: fonttools>=4.22.0 in /usr/local/lib/python3.10/dist-packages (from matplotlib!=3.6.1,>=3.4->seaborn) (4.54.1)\n",
            "Requirement already satisfied: kiwisolver>=1.0.1 in /usr/local/lib/python3.10/dist-packages (from matplotlib!=3.6.1,>=3.4->seaborn) (1.4.7)\n",
            "Requirement already satisfied: pillow>=6.2.0 in /usr/local/lib/python3.10/dist-packages (from matplotlib!=3.6.1,>=3.4->seaborn) (10.4.0)\n",
            "Requirement already satisfied: pyparsing>=2.3.1 in /usr/local/lib/python3.10/dist-packages (from matplotlib!=3.6.1,>=3.4->seaborn) (3.1.4)\n",
            "Requirement already satisfied: python-dateutil>=2.7 in /usr/local/lib/python3.10/dist-packages (from matplotlib!=3.6.1,>=3.4->seaborn) (2.8.2)\n",
            "Requirement already satisfied: pytz>=2020.1 in /usr/local/lib/python3.10/dist-packages (from pandas>=1.2->seaborn) (2024.2)\n",
            "Requirement already satisfied: tzdata>=2022.7 in /usr/local/lib/python3.10/dist-packages (from pandas>=1.2->seaborn) (2024.2)\n",
            "Requirement already satisfied: six in /usr/local/lib/python3.10/dist-packages (from patsy>=0.5.6->statsmodels) (1.16.0)\n",
            "Building wheels for collected packages: fpdf\n",
            "  Building wheel for fpdf (setup.py) ... \u001b[?25l\u001b[?25hdone\n",
            "  Created wheel for fpdf: filename=fpdf-1.7.2-py2.py3-none-any.whl size=40704 sha256=787d3983fc90760f916d7eae0b83e66f65ccda7f4e789997e05ca180e4e3145e\n",
            "  Stored in directory: /root/.cache/pip/wheels/f9/95/ba/f418094659025eb9611f17cbcaf2334236bf39a0c3453ea455\n",
            "Successfully built fpdf\n",
            "Installing collected packages: fpdf\n",
            "Successfully installed fpdf-1.7.2\n"
          ]
        }
      ]
    },
    {
      "cell_type": "markdown",
      "source": [
        "Importing Requireed Libraries"
      ],
      "metadata": {
        "id": "ZYKtzNRIiT1s"
      }
    },
    {
      "cell_type": "code",
      "source": [
        "import pandas as pd\n",
        "import numpy as np\n",
        "import matplotlib.pyplot as plt\n",
        "import seaborn as sns\n",
        "from statsmodels.tsa.holtwinters import ExponentialSmoothing\n",
        "from pandas.plotting import autocorrelation_plot\n",
        "from fpdf import FPDF"
      ],
      "metadata": {
        "id": "p885TH0mic3Q"
      },
      "execution_count": 2,
      "outputs": []
    },
    {
      "cell_type": "markdown",
      "source": [
        "Data Loading and Cleaning"
      ],
      "metadata": {
        "id": "imFiDZBjikPL"
      }
    },
    {
      "cell_type": "code",
      "source": [
        "data = pd.read_csv('airline_passengers.csv')\n",
        "\n",
        "# Display the first few rows of the dataset\n",
        "print(\"First few rows of the dataset:\")\n",
        "print(data.head())\n"
      ],
      "metadata": {
        "colab": {
          "base_uri": "https://localhost:8080/"
        },
        "id": "g7njMLP1ioOT",
        "outputId": "4dbbcd33-d7c4-41f7-b342-1085e6d8ccbd"
      },
      "execution_count": 8,
      "outputs": [
        {
          "output_type": "stream",
          "name": "stdout",
          "text": [
            "First few rows of the dataset:\n",
            "     Month  AirPassengers\n",
            "0  1949-01            112\n",
            "1  1949-02            118\n",
            "2  1949-03            132\n",
            "3  1949-04            129\n",
            "4  1949-05            121\n"
          ]
        }
      ]
    },
    {
      "cell_type": "code",
      "source": [
        "# Data Information\n",
        "print(\"Data Information:\")\n",
        "print(data.info())"
      ],
      "metadata": {
        "colab": {
          "base_uri": "https://localhost:8080/"
        },
        "id": "yQeC4TTQkeML",
        "outputId": "be4d2169-cc7a-4aef-de1f-e877ec89c50c"
      },
      "execution_count": 9,
      "outputs": [
        {
          "output_type": "stream",
          "name": "stdout",
          "text": [
            "Data Information:\n",
            "<class 'pandas.core.frame.DataFrame'>\n",
            "RangeIndex: 144 entries, 0 to 143\n",
            "Data columns (total 2 columns):\n",
            " #   Column         Non-Null Count  Dtype \n",
            "---  ------         --------------  ----- \n",
            " 0   Month          144 non-null    object\n",
            " 1   AirPassengers  144 non-null    int64 \n",
            "dtypes: int64(1), object(1)\n",
            "memory usage: 2.4+ KB\n",
            "None\n"
          ]
        }
      ]
    },
    {
      "cell_type": "code",
      "source": [
        "# Check the columns in the DataFrame\n",
        "print(\"Original Column Names:\", data.columns)\n",
        "\n",
        "# Clean column names by stripping whitespace\n",
        "data.columns = data.columns.str.strip()\n",
        "\n",
        "# Display the cleaned column names and first few rows\n",
        "print(\"Cleaned Column Names:\", data.columns)\n",
        "print(data.head())"
      ],
      "metadata": {
        "colab": {
          "base_uri": "https://localhost:8080/"
        },
        "id": "8saNr_j7j5zN",
        "outputId": "0b868fef-5a56-4305-9400-fbe65ee08dc4"
      },
      "execution_count": 12,
      "outputs": [
        {
          "output_type": "stream",
          "name": "stdout",
          "text": [
            "Original Column Names: Index(['AirPassengers'], dtype='object')\n",
            "Cleaned Column Names: Index(['AirPassengers'], dtype='object')\n",
            "            AirPassengers\n",
            "Month                    \n",
            "1949-01-01            112\n",
            "1949-02-01            118\n",
            "1949-03-01            132\n",
            "1949-04-01            129\n",
            "1949-05-01            121\n"
          ]
        }
      ]
    },
    {
      "cell_type": "code",
      "source": [
        "# Drop any missing values\n",
        "data.dropna(inplace=True)"
      ],
      "metadata": {
        "id": "rFZyrzIZjw1V"
      },
      "execution_count": 4,
      "outputs": []
    },
    {
      "cell_type": "markdown",
      "source": [
        "PDF Report Generation Setup"
      ],
      "metadata": {
        "id": "MxLGaXEKk6YQ"
      }
    },
    {
      "cell_type": "code",
      "source": [
        "class PDF(FPDF):\n",
        "    def header(self):\n",
        "        self.set_font('Arial', 'B', 12)\n",
        "        self.cell(0, 10, 'Time Series Analysis Report', 0, 1, 'C')\n",
        "\n",
        "    def footer(self):\n",
        "        self.set_y(-15)\n",
        "        self.set_font('Arial', 'I', 8)\n",
        "        self.cell(0, 10, f'Page {self.page_no()}', 0, 0, 'C')\n",
        "\n",
        "    def chapter_title(self, title):\n",
        "        self.set_font('Arial', 'B', 12)\n",
        "        self.cell(0, 10, title, 0, 1, 'L')\n",
        "        self.ln(4)\n",
        "\n",
        "    def chapter_body(self, body):\n",
        "        self.set_font('Arial', '', 12)\n",
        "        self.multi_cell(0, 10, body)\n",
        "        self.ln()"
      ],
      "metadata": {
        "id": "RZ9ZQkThk7XF"
      },
      "execution_count": 16,
      "outputs": []
    },
    {
      "cell_type": "markdown",
      "source": [
        "Seasonal Time Series Plotting"
      ],
      "metadata": {
        "id": "8PGfYAEDlB3a"
      }
    },
    {
      "cell_type": "code",
      "source": [
        "def seasonal_time_series(data):\n",
        "    pdf.chapter_title('Seasonal Time Series Plot')\n",
        "    plt.figure(figsize=(10, 6))\n",
        "    data['AirPassengers'].plot()\n",
        "    plt.title(\"Monthly Airline Passengers\")\n",
        "    plt.xlabel(\"Month\")\n",
        "    plt.ylabel(\"Number of Passengers\")\n",
        "    plt.grid()\n",
        "    plt.savefig('seasonal_plot.png')\n",
        "    plt.close()\n",
        "    pdf.image('seasonal_plot.png', x=10, y=None, w=180)"
      ],
      "metadata": {
        "id": "BH9ycOsKlFFL"
      },
      "execution_count": 26,
      "outputs": []
    },
    {
      "cell_type": "markdown",
      "source": [
        "Autocorrelation Plotting"
      ],
      "metadata": {
        "id": "x-_56jmJmIuD"
      }
    },
    {
      "cell_type": "code",
      "source": [
        "def autocorrelation(data):\n",
        "    pdf.chapter_title('Autocorrelation Plot')\n",
        "    plt.figure(figsize=(10, 6))\n",
        "    autocorrelation_plot(data['AirPassengers'])\n",
        "    plt.title(\"Autocorrelation of Passengers\")\n",
        "    plt.grid()\n",
        "    plt.savefig('autocorrelation_plot.png')\n",
        "    plt.close()\n",
        "    pdf.image('autocorrelation_plot.png', x=10, y=None, w=180)"
      ],
      "metadata": {
        "id": "xULepWEdmJYx"
      },
      "execution_count": 28,
      "outputs": []
    },
    {
      "cell_type": "markdown",
      "source": [
        "Exponential Smoothing Analysis\n",
        "\n"
      ],
      "metadata": {
        "id": "FGIZLjRjmMU3"
      }
    },
    {
      "cell_type": "code",
      "source": [
        "def exponential_smoothing(data):\n",
        "    pdf.chapter_title('Exponential Smoothing Plot')\n",
        "    model = ExponentialSmoothing(data['AirPassengers'], seasonal='add', seasonal_periods=12).fit()\n",
        "    data['Forecast'] = model.fittedvalues\n",
        "    plt.figure(figsize=(10, 6))\n",
        "    plt.plot(data['AirPassengers'], label='Original')\n",
        "    plt.plot(data['Forecast'], label='Exponential Smoothing', color='orange')\n",
        "    plt.title(\"Exponential Smoothing Forecast\")\n",
        "    plt.xlabel(\"Month\")\n",
        "    plt.ylabel(\"Number of Passengers\")\n",
        "    plt.legend()\n",
        "    plt.grid()\n",
        "    plt.savefig('exponential_smoothing_plot.png')\n",
        "    plt.close()\n",
        "    pdf.image('exponential_smoothing_plot.png', x=10, y=None, w=180)"
      ],
      "metadata": {
        "id": "FUWnwlA2mOcX"
      },
      "execution_count": 29,
      "outputs": []
    },
    {
      "cell_type": "markdown",
      "source": [
        "Moving Average Analysis"
      ],
      "metadata": {
        "id": "3SsAGnyamVLk"
      }
    },
    {
      "cell_type": "code",
      "source": [
        "def moving_average(data):\n",
        "    pdf.chapter_title('Moving Average Plot')\n",
        "    data['Moving_Avg'] = data['AirPassengers'].rolling(window=12).mean()\n",
        "    plt.figure(figsize=(10, 6))\n",
        "    plt.plot(data['AirPassengers'], label='Original')\n",
        "    plt.plot(data['Moving_Avg'], label='Moving Average', color='orange')\n",
        "    plt.title(\"Moving Average of Passengers\")\n",
        "    plt.xlabel(\"Month\")\n",
        "    plt.ylabel(\"Number of Passengers\")\n",
        "    plt.legend()\n",
        "    plt.grid()\n",
        "    plt.savefig('moving_average_plot.png')\n",
        "    plt.close()\n",
        "    pdf.image('moving_average_plot.png', x=10, y=None, w=180)"
      ],
      "metadata": {
        "id": "B17l-KD_mVtJ"
      },
      "execution_count": 31,
      "outputs": []
    },
    {
      "cell_type": "markdown",
      "source": [
        "Exploratory Data Analysis"
      ],
      "metadata": {
        "id": "CZxCLa2umYUM"
      }
    },
    {
      "cell_type": "code",
      "source": [
        "def exploratory_data_analysis(data):\n",
        "    pdf.chapter_title('Exploratory Data Analysis Plot')\n",
        "    plt.figure(figsize=(10, 6))\n",
        "    sns.lineplot(data=data, x=data.index, y=\"AirPassengers\")\n",
        "    plt.title(\"EDA: Time Series Plot of Passengers\")\n",
        "    plt.xlabel(\"Month\")\n",
        "    plt.ylabel(\"Number of Passengers\")\n",
        "    plt.grid()\n",
        "    plt.savefig('eda_plot.png')\n",
        "    plt.close()\n",
        "    pdf.image('eda_plot.png', x=10, y=None, w=180)\n"
      ],
      "metadata": {
        "id": "5JxMT1i-mam3"
      },
      "execution_count": 32,
      "outputs": []
    },
    {
      "cell_type": "markdown",
      "source": [
        "Trend Analysis"
      ],
      "metadata": {
        "id": "NgVQY5tnmfe_"
      }
    },
    {
      "cell_type": "code",
      "source": [
        "def trend_analysis(data):\n",
        "    pdf.chapter_title('Trend Analysis Plot')\n",
        "    data['Trend'] = data['AirPassengers'].rolling(window=12).mean()\n",
        "    plt.figure(figsize=(10, 6))\n",
        "    plt.plot(data['AirPassengers'], label='Original')\n",
        "    plt.plot(data['Trend'], label='Trend', color='orange')\n",
        "    plt.title(\"Trend Analysis of Passengers\")\n",
        "    plt.xlabel(\"Month\")\n",
        "    plt.ylabel(\"Number of Passengers\")\n",
        "    plt.legend()\n",
        "    plt.grid()\n",
        "    plt.savefig('trend_analysis_plot.png')\n",
        "    plt.close()\n",
        "    pdf.image('trend_analysis_plot.png', x=10, y=None, w=180)"
      ],
      "metadata": {
        "id": "RR5ZngXImgAj"
      },
      "execution_count": 33,
      "outputs": []
    },
    {
      "cell_type": "markdown",
      "source": [
        "Generate All Plots and Save Report"
      ],
      "metadata": {
        "id": "Pl3dFMI6mpNH"
      }
    },
    {
      "cell_type": "code",
      "source": [
        "# Create PDF instance\n",
        "pdf = PDF()\n",
        "pdf.add_page()\n",
        "\n",
        "# Generate all plots\n",
        "seasonal_time_series(data)\n",
        "autocorrelation(data)\n",
        "exponential_smoothing(data)\n",
        "moving_average(data)\n",
        "exploratory_data_analysis(data)\n",
        "trend_analysis(data)\n",
        "\n",
        "# Save the PDF to the current directory\n",
        "pdf.output('Time_Series_Report.pdf')"
      ],
      "metadata": {
        "colab": {
          "base_uri": "https://localhost:8080/",
          "height": 90
        },
        "id": "f2--Cpy1mqR2",
        "outputId": "a3f4cc48-303a-482f-e4bc-dab83db451ca"
      },
      "execution_count": 34,
      "outputs": [
        {
          "output_type": "stream",
          "name": "stderr",
          "text": [
            "/usr/local/lib/python3.10/dist-packages/statsmodels/tsa/base/tsa_model.py:473: ValueWarning: No frequency information was provided, so inferred frequency MS will be used.\n",
            "  self._init_dates(dates, freq)\n"
          ]
        },
        {
          "output_type": "execute_result",
          "data": {
            "text/plain": [
              "''"
            ],
            "application/vnd.google.colaboratory.intrinsic+json": {
              "type": "string"
            }
          },
          "metadata": {},
          "execution_count": 34
        }
      ]
    }
  ]
}